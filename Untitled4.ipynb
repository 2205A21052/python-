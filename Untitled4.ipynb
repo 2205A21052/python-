{
  "nbformat": 4,
  "nbformat_minor": 0,
  "metadata": {
    "colab": {
      "provenance": [],
      "authorship_tag": "ABX9TyP1Wvu41T3APVfaFejIsxWL",
      "include_colab_link": true
    },
    "kernelspec": {
      "name": "python3",
      "display_name": "Python 3"
    },
    "language_info": {
      "name": "python"
    }
  },
  "cells": [
    {
      "cell_type": "markdown",
      "metadata": {
        "id": "view-in-github",
        "colab_type": "text"
      },
      "source": [
        "<a href=\"https://colab.research.google.com/github/2205A21052/python-/blob/main/Untitled4.ipynb\" target=\"_parent\"><img src=\"https://colab.research.google.com/assets/colab-badge.svg\" alt=\"Open In Colab\"/></a>"
      ]
    },
    {
      "cell_type": "markdown",
      "source": [
        "PATTERNS USING NESTED FOR LOOP:"
      ],
      "metadata": {
        "id": "jzED05aW7Pjq"
      }
    },
    {
      "cell_type": "code",
      "execution_count": 1,
      "metadata": {
        "colab": {
          "base_uri": "https://localhost:8080/"
        },
        "id": "I36caDOO6zGy",
        "outputId": "07e491e0-675c-4fc9-84f2-38c81bc7a922"
      },
      "outputs": [
        {
          "output_type": "stream",
          "name": "stdout",
          "text": [
            "++++++\n",
            "+++++\n",
            "++++\n",
            "+++\n",
            "++\n",
            "+\n",
            "PATTERN-1\n",
            "\n",
            "\n"
          ]
        }
      ],
      "source": [
        "rows=6\n",
        "for i in range(rows,0,-1):\n",
        "    for j in range(0,i):\n",
        "        print('+',end='')\n",
        "    print('')\n",
        "print('PATTERN-1')\n",
        "print('\\n')"
      ]
    },
    {
      "cell_type": "code",
      "source": [
        "rows=6\n",
        "for i in range(rows+1):\n",
        "    for j in range(i):\n",
        "        print(\"*\",end='')\n",
        "    print('')\n",
        "print('PATTERN-2')\n",
        "print('\\n')"
      ],
      "metadata": {
        "colab": {
          "base_uri": "https://localhost:8080/"
        },
        "id": "cNN2YFmV654j",
        "outputId": "130fcc72-b49f-42d1-d8a5-7bc03f5ca1fc"
      },
      "execution_count": 2,
      "outputs": [
        {
          "output_type": "stream",
          "name": "stdout",
          "text": [
            "\n",
            "*\n",
            "**\n",
            "***\n",
            "****\n",
            "*****\n",
            "******\n",
            "PATTERN-2\n",
            "\n",
            "\n"
          ]
        }
      ]
    },
    {
      "cell_type": "code",
      "source": [
        "rows=6\n",
        "for i in range(rows):\n",
        "    for j in range(rows-i-1):\n",
        "        print(\" \",end='')\n",
        "    for j in range(i+1):\n",
        "        print(\"*\",end='')\n",
        "    print('')\n",
        "print('PATTERN-3')\n",
        "print('\\n')"
      ],
      "metadata": {
        "colab": {
          "base_uri": "https://localhost:8080/"
        },
        "id": "0soxgyN36-w5",
        "outputId": "b70cb1b7-cdab-4b5f-a340-7392a6717f89"
      },
      "execution_count": 3,
      "outputs": [
        {
          "output_type": "stream",
          "name": "stdout",
          "text": [
            "     *\n",
            "    **\n",
            "   ***\n",
            "  ****\n",
            " *****\n",
            "******\n",
            "PATTERN-3\n",
            "\n",
            "\n"
          ]
        }
      ]
    },
    {
      "cell_type": "code",
      "source": [
        "rows=6\n",
        "for i in range(rows):\n",
        "    print(' ' * (i * 1), end='')\n",
        "    print('+' * (rows - i))\n",
        "print('PATTERN-4')\n",
        "print('\\n')"
      ],
      "metadata": {
        "colab": {
          "base_uri": "https://localhost:8080/"
        },
        "id": "rW66JMBn6_jp",
        "outputId": "3ee29a65-52a2-4e43-8687-27b4add7cc70"
      },
      "execution_count": 4,
      "outputs": [
        {
          "output_type": "stream",
          "name": "stdout",
          "text": [
            "++++++\n",
            " +++++\n",
            "  ++++\n",
            "   +++\n",
            "    ++\n",
            "     +\n",
            "PATTERN-4\n",
            "\n",
            "\n"
          ]
        }
      ]
    },
    {
      "cell_type": "markdown",
      "source": [
        "PATTERNS USING NESTED WHILE LOOP:"
      ],
      "metadata": {
        "id": "tkVoTa997ZP7"
      }
    },
    {
      "cell_type": "code",
      "source": [
        "rows = 6\n",
        "i = rows\n",
        "while i > 0:\n",
        "    j = 0\n",
        "    while j < i:\n",
        "        print('+', end='')\n",
        "        j += 1\n",
        "    print('')\n",
        "    i -= 1\n",
        "print('PATTERN-1\\n')"
      ],
      "metadata": {
        "colab": {
          "base_uri": "https://localhost:8080/"
        },
        "id": "hQCOtqD47D15",
        "outputId": "afa3f5a5-a348-44b9-eef0-28429e4d9181"
      },
      "execution_count": 5,
      "outputs": [
        {
          "output_type": "stream",
          "name": "stdout",
          "text": [
            "++++++\n",
            "+++++\n",
            "++++\n",
            "+++\n",
            "++\n",
            "+\n",
            "PATTERN-1\n",
            "\n"
          ]
        }
      ]
    },
    {
      "cell_type": "code",
      "source": [
        "rows = 6\n",
        "i = 0\n",
        "while i <= rows:\n",
        "    j = 0\n",
        "    while j < i:\n",
        "        print('*', end='')\n",
        "        j += 1\n",
        "    print('')\n",
        "    i += 1\n",
        "print('PATTERN-2\\n')"
      ],
      "metadata": {
        "colab": {
          "base_uri": "https://localhost:8080/"
        },
        "id": "mpNnpMU57Guk",
        "outputId": "d0c85d25-083c-444f-c007-bba1f1e46093"
      },
      "execution_count": 6,
      "outputs": [
        {
          "output_type": "stream",
          "name": "stdout",
          "text": [
            "\n",
            "*\n",
            "**\n",
            "***\n",
            "****\n",
            "*****\n",
            "******\n",
            "PATTERN-2\n",
            "\n"
          ]
        }
      ]
    },
    {
      "cell_type": "code",
      "source": [
        "rows = 6\n",
        "i = 0\n",
        "while i < rows:\n",
        "    j = 0\n",
        "    while j < (rows - i - 1):\n",
        "        print(\" \", end='')\n",
        "        j += 1\n",
        "    j = 0\n",
        "    while j <= i:\n",
        "        print(\"*\", end='')\n",
        "        j += 1\n",
        "    print('')\n",
        "    i += 1\n",
        "print('PATTERN-3\\n')"
      ],
      "metadata": {
        "colab": {
          "base_uri": "https://localhost:8080/"
        },
        "id": "f3780lOF7JYM",
        "outputId": "d0e5bedb-46c7-479c-b1a2-e1adcb269b6c"
      },
      "execution_count": 7,
      "outputs": [
        {
          "output_type": "stream",
          "name": "stdout",
          "text": [
            "     *\n",
            "    **\n",
            "   ***\n",
            "  ****\n",
            " *****\n",
            "******\n",
            "PATTERN-3\n",
            "\n"
          ]
        }
      ]
    },
    {
      "cell_type": "code",
      "source": [
        "rows = 6\n",
        "i = 0\n",
        "while i < rows:\n",
        "    print(' ' * i, end='')\n",
        "    print('+' * (rows - i))\n",
        "    i += 1\n",
        "print('PATTERN-4\\n')"
      ],
      "metadata": {
        "colab": {
          "base_uri": "https://localhost:8080/"
        },
        "id": "w_SemZTH7L07",
        "outputId": "e94ca5c3-dfac-4322-a9b8-87f0c7fdaa86"
      },
      "execution_count": 8,
      "outputs": [
        {
          "output_type": "stream",
          "name": "stdout",
          "text": [
            "++++++\n",
            " +++++\n",
            "  ++++\n",
            "   +++\n",
            "    ++\n",
            "     +\n",
            "PATTERN-4\n",
            "\n"
          ]
        }
      ]
    }
  ]
}